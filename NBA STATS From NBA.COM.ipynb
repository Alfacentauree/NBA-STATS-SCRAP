{
 "cells": [
  {
   "cell_type": "code",
   "execution_count": 1,
   "metadata": {},
   "outputs": [],
   "source": [
    "from selenium import webdriver\n",
    "from selenium.webdriver.common.keys import Keys\n",
    "from selenium.webdriver.support.ui import Select\n",
    "from bs4 import BeautifulSoup\n",
    "import pandas as pd\n",
    "import time"
   ]
  },
  {
   "cell_type": "code",
   "execution_count": 2,
   "metadata": {},
   "outputs": [],
   "source": [
    "driver = webdriver.Chrome(\"C:/chromedriver.exe\")\n",
    "url = r'https://www.nba.com/stats/players/traditional/?sort=PTS&dir=-1&Season=2020-21&SeasonType=Regular%20Season&PerMode=Totals'                        "
   ]
  },
  {
   "cell_type": "code",
   "execution_count": 3,
   "metadata": {},
   "outputs": [],
   "source": [
    "driver.get(url)"
   ]
  },
  {
   "cell_type": "code",
   "execution_count": 4,
   "metadata": {},
   "outputs": [],
   "source": [
    "select = Select(driver.find_element_by_xpath(r\"/html/body/main/div/div/div[2]/div/div/nba-stat-table/div[1]/div/div/select\"))"
   ]
  },
  {
   "cell_type": "code",
   "execution_count": 6,
   "metadata": {},
   "outputs": [],
   "source": [
    "select.select_by_index(0)"
   ]
  },
  {
   "cell_type": "code",
   "execution_count": 8,
   "metadata": {},
   "outputs": [],
   "source": [
    "src = driver.page_source\n",
    "parser = BeautifulSoup(src, 'lxml')\n",
    "table = parser.find(\"div\",attrs={\"class\":\"nba-stat-table__overflow\"})\n",
    "header = table.findAll('th')\n",
    "headerlist = [h.text.strip() for h in header[1:]]"
   ]
  },
  {
   "cell_type": "code",
   "execution_count": 14,
   "metadata": {},
   "outputs": [],
   "source": [
    "headerlist2= []\n",
    "headerlist1 = [ a for a in headerlist if not \"RANK\" in a]\n",
    "for header in headerlist:\n",
    "    if not 'RANK'in header:\n",
    "        headerlist2.append(header)"
   ]
  },
  {
   "cell_type": "code",
   "execution_count": 16,
   "metadata": {},
   "outputs": [],
   "source": [
    "row = table.findAll('tr')[1:]"
   ]
  },
  {
   "cell_type": "code",
   "execution_count": 19,
   "metadata": {},
   "outputs": [],
   "source": [
    "player_stat = [[td.getText().strip()for td in row[i].findAll('td')[1:]]for i in range(len(row))]"
   ]
  },
  {
   "cell_type": "code",
   "execution_count": 22,
   "metadata": {},
   "outputs": [],
   "source": [
    "#if You Don Wanna last five items in the list so you can run this line of code.\n",
    "#headerlist1 = headerlist1[:-5\n",
    "stats = pd.DataFrame(player_stat ,columns=headerlist1)"
   ]
  },
  {
   "cell_type": "code",
   "execution_count": 24,
   "metadata": {},
   "outputs": [
    {
     "data": {
      "text/html": [
       "<div>\n",
       "<style scoped>\n",
       "    .dataframe tbody tr th:only-of-type {\n",
       "        vertical-align: middle;\n",
       "    }\n",
       "\n",
       "    .dataframe tbody tr th {\n",
       "        vertical-align: top;\n",
       "    }\n",
       "\n",
       "    .dataframe thead th {\n",
       "        text-align: right;\n",
       "    }\n",
       "</style>\n",
       "<table border=\"1\" class=\"dataframe\">\n",
       "  <thead>\n",
       "    <tr style=\"text-align: right;\">\n",
       "      <th></th>\n",
       "      <th>PLAYER</th>\n",
       "      <th>TEAM</th>\n",
       "      <th>AGE</th>\n",
       "      <th>GP</th>\n",
       "      <th>W</th>\n",
       "      <th>L</th>\n",
       "      <th>MIN</th>\n",
       "      <th>PTS</th>\n",
       "      <th>FGM</th>\n",
       "      <th>FGA</th>\n",
       "      <th>...</th>\n",
       "      <th>REB</th>\n",
       "      <th>AST</th>\n",
       "      <th>TOV</th>\n",
       "      <th>STL</th>\n",
       "      <th>BLK</th>\n",
       "      <th>PF</th>\n",
       "      <th>FP</th>\n",
       "      <th>DD2</th>\n",
       "      <th>TD3</th>\n",
       "      <th>+/-</th>\n",
       "    </tr>\n",
       "  </thead>\n",
       "  <tbody>\n",
       "    <tr>\n",
       "      <th>0</th>\n",
       "      <td>Stephen Curry</td>\n",
       "      <td>GSW</td>\n",
       "      <td>32</td>\n",
       "      <td>30</td>\n",
       "      <td>16</td>\n",
       "      <td>14</td>\n",
       "      <td>1024</td>\n",
       "      <td>898</td>\n",
       "      <td>301</td>\n",
       "      <td>619</td>\n",
       "      <td>...</td>\n",
       "      <td>162</td>\n",
       "      <td>186</td>\n",
       "      <td>94</td>\n",
       "      <td>35</td>\n",
       "      <td>2</td>\n",
       "      <td>57</td>\n",
       "      <td>1388.4</td>\n",
       "      <td>7</td>\n",
       "      <td>0</td>\n",
       "      <td>61</td>\n",
       "    </tr>\n",
       "    <tr>\n",
       "      <th>1</th>\n",
       "      <td>Damian Lillard</td>\n",
       "      <td>POR</td>\n",
       "      <td>30</td>\n",
       "      <td>28</td>\n",
       "      <td>17</td>\n",
       "      <td>11</td>\n",
       "      <td>1008</td>\n",
       "      <td>840</td>\n",
       "      <td>259</td>\n",
       "      <td>582</td>\n",
       "      <td>...</td>\n",
       "      <td>125</td>\n",
       "      <td>221</td>\n",
       "      <td>88</td>\n",
       "      <td>30</td>\n",
       "      <td>7</td>\n",
       "      <td>45</td>\n",
       "      <td>1344.5</td>\n",
       "      <td>6</td>\n",
       "      <td>0</td>\n",
       "      <td>106</td>\n",
       "    </tr>\n",
       "    <tr>\n",
       "      <th>2</th>\n",
       "      <td>Zach LaVine</td>\n",
       "      <td>CHI</td>\n",
       "      <td>25</td>\n",
       "      <td>29</td>\n",
       "      <td>13</td>\n",
       "      <td>16</td>\n",
       "      <td>1036</td>\n",
       "      <td>837</td>\n",
       "      <td>299</td>\n",
       "      <td>577</td>\n",
       "      <td>...</td>\n",
       "      <td>158</td>\n",
       "      <td>148</td>\n",
       "      <td>111</td>\n",
       "      <td>35</td>\n",
       "      <td>13</td>\n",
       "      <td>78</td>\n",
       "      <td>1281.6</td>\n",
       "      <td>2</td>\n",
       "      <td>0</td>\n",
       "      <td>-68</td>\n",
       "    </tr>\n",
       "    <tr>\n",
       "      <th>3</th>\n",
       "      <td>Bradley Beal</td>\n",
       "      <td>WAS</td>\n",
       "      <td>27</td>\n",
       "      <td>25</td>\n",
       "      <td>10</td>\n",
       "      <td>15</td>\n",
       "      <td>881</td>\n",
       "      <td>823</td>\n",
       "      <td>289</td>\n",
       "      <td>604</td>\n",
       "      <td>...</td>\n",
       "      <td>131</td>\n",
       "      <td>115</td>\n",
       "      <td>80</td>\n",
       "      <td>34</td>\n",
       "      <td>12</td>\n",
       "      <td>65</td>\n",
       "      <td>1210.7</td>\n",
       "      <td>2</td>\n",
       "      <td>0</td>\n",
       "      <td>-90</td>\n",
       "    </tr>\n",
       "    <tr>\n",
       "      <th>4</th>\n",
       "      <td>Giannis Antetokounmpo</td>\n",
       "      <td>MIL</td>\n",
       "      <td>26</td>\n",
       "      <td>29</td>\n",
       "      <td>16</td>\n",
       "      <td>13</td>\n",
       "      <td>979</td>\n",
       "      <td>813</td>\n",
       "      <td>297</td>\n",
       "      <td>536</td>\n",
       "      <td>...</td>\n",
       "      <td>339</td>\n",
       "      <td>173</td>\n",
       "      <td>107</td>\n",
       "      <td>37</td>\n",
       "      <td>39</td>\n",
       "      <td>91</td>\n",
       "      <td>1600.3</td>\n",
       "      <td>21</td>\n",
       "      <td>4</td>\n",
       "      <td>200</td>\n",
       "    </tr>\n",
       "  </tbody>\n",
       "</table>\n",
       "<p>5 rows × 29 columns</p>\n",
       "</div>"
      ],
      "text/plain": [
       "                  PLAYER TEAM AGE  GP   W   L   MIN  PTS  FGM  FGA  ...  REB  \\\n",
       "0          Stephen Curry  GSW  32  30  16  14  1024  898  301  619  ...  162   \n",
       "1         Damian Lillard  POR  30  28  17  11  1008  840  259  582  ...  125   \n",
       "2            Zach LaVine  CHI  25  29  13  16  1036  837  299  577  ...  158   \n",
       "3           Bradley Beal  WAS  27  25  10  15   881  823  289  604  ...  131   \n",
       "4  Giannis Antetokounmpo  MIL  26  29  16  13   979  813  297  536  ...  339   \n",
       "\n",
       "   AST  TOV STL BLK  PF      FP DD2 TD3  +/-  \n",
       "0  186   94  35   2  57  1388.4   7   0   61  \n",
       "1  221   88  30   7  45  1344.5   6   0  106  \n",
       "2  148  111  35  13  78  1281.6   2   0  -68  \n",
       "3  115   80  34  12  65  1210.7   2   0  -90  \n",
       "4  173  107  37  39  91  1600.3  21   4  200  \n",
       "\n",
       "[5 rows x 29 columns]"
      ]
     },
     "execution_count": 24,
     "metadata": {},
     "output_type": "execute_result"
    }
   ],
   "source": [
    "stats.head()"
   ]
  },
  {
   "cell_type": "code",
   "execution_count": 28,
   "metadata": {},
   "outputs": [],
   "source": [
    "pd.DataFrame.to_csv(stats , \"nbaplayestat.csv\")"
   ]
  },
  {
   "cell_type": "code",
   "execution_count": null,
   "metadata": {},
   "outputs": [],
   "source": []
  }
 ],
 "metadata": {
  "kernelspec": {
   "display_name": "Python 3",
   "language": "python",
   "name": "python3"
  },
  "language_info": {
   "codemirror_mode": {
    "name": "ipython",
    "version": 3
   },
   "file_extension": ".py",
   "mimetype": "text/x-python",
   "name": "python",
   "nbconvert_exporter": "python",
   "pygments_lexer": "ipython3",
   "version": "3.8.5"
  }
 },
 "nbformat": 4,
 "nbformat_minor": 4
}
